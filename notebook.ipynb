{
 "cells": [
  {
   "cell_type": "code",
   "execution_count": 1,
   "metadata": {},
   "outputs": [],
   "source": [
    "import numpy as np\n",
    "import networkx as nx\n",
    "import trimesh\n",
    "from utils import *\n",
    "import scipy.sparse"
   ]
  },
  {
   "cell_type": "markdown",
   "metadata": {},
   "source": [
    "## Load Mesh"
   ]
  },
  {
   "cell_type": "code",
   "execution_count": 2,
   "metadata": {},
   "outputs": [],
   "source": [
    "mesh = trimesh.load('./meshes/bunny.ply', process=False)"
   ]
  },
  {
   "cell_type": "code",
   "execution_count": 3,
   "metadata": {},
   "outputs": [],
   "source": [
    "g = mesh_to_graph(mesh)"
   ]
  },
  {
   "cell_type": "code",
   "execution_count": 4,
   "metadata": {},
   "outputs": [],
   "source": [
    "handles = {\n",
    "    24092 : [-0.01134  ,  0.161374 , -0.0242688]\n",
    "}\n",
    "boundary_ctrl_points = [15617, 24120, 30216, 11236, 6973]"
   ]
  },
  {
   "cell_type": "code",
   "execution_count": 5,
   "metadata": {},
   "outputs": [],
   "source": [
    "boundary = get_boundary(g, boundary_ctrl_points)\n",
    "editable_verts = get_editable_vertices(g, boundary, list(handles.keys())[0])"
   ]
  },
  {
   "cell_type": "code",
   "execution_count": null,
   "metadata": {},
   "outputs": [],
   "source": [
    "get_mesh_scene(mesh, boundary, editable_verts).show(viewer='gl',smooth=False) "
   ]
  },
  {
   "cell_type": "markdown",
   "metadata": {},
   "source": [
    "## Laplacian"
   ]
  },
  {
   "cell_type": "code",
   "execution_count": 7,
   "metadata": {},
   "outputs": [],
   "source": [
    "subgraph = g.subgraph(boundary + editable_verts)\n",
    "\n",
    "g2l = {}\n",
    "for n in subgraph.nodes:\n",
    "    g2l[n] = len(g2l)\n",
    "l2g = list(subgraph.nodes)\n",
    "\n",
    "def get_local_neighbor(subgraph, n, l2g, g2l):\n",
    "    nb = []\n",
    "    for i in subgraph.neighbors(l2g[n]):\n",
    "        nb.append(g2l[i])\n",
    "    return nb"
   ]
  },
  {
   "cell_type": "code",
   "execution_count": 8,
   "metadata": {},
   "outputs": [],
   "source": [
    "L = rw_laplacian_matrix(subgraph).todense()\n",
    "V = np.matrix([subgraph.nodes[i]['pos'] for i in subgraph.nodes])\n",
    "Delta = L.dot(V)"
   ]
  },
  {
   "cell_type": "code",
   "execution_count": 9,
   "metadata": {},
   "outputs": [],
   "source": [
    "# The linear system\n",
    "n = L.shape[0]\n",
    "LS = np.zeros([3*n, 3*n])"
   ]
  },
  {
   "cell_type": "code",
   "execution_count": 10,
   "metadata": {},
   "outputs": [],
   "source": [
    "LS[0*n:1*n, 0*n:1*n] = (-1) * L\n",
    "LS[1*n:2*n, 1*n:2*n] = (-1) * L\n",
    "LS[2*n:3*n, 2*n:3*n] = (-1) * L"
   ]
  },
  {
   "cell_type": "code",
   "execution_count": 11,
   "metadata": {},
   "outputs": [],
   "source": [
    "for i in range(n):\n",
    "    nb_idx = get_local_neighbor(subgraph, i, l2g, g2l)\n",
    "    ring = np.array([i] + nb_idx)\n",
    "    V_ring = V[ring]\n",
    "    n_ring = V_ring.shape[0]\n",
    "    V_ring = np.hstack([V_ring, np.ones([n_ring, 1])])  # Append extra 1s for affinity transform T\n",
    "    \n",
    "    A = np.zeros([n_ring * 3, 7])\n",
    "    for j in range(n_ring):\n",
    "        A[j]          = [V_ring[j,0],           0 ,   V_ring[j,2], -V_ring[j,1], 1, 0, 0]\n",
    "        A[j+n_ring]   = [V_ring[j,1], -V_ring[j,2],            0 ,  V_ring[j,0], 0, 1, 0]\n",
    "        A[j+2*n_ring] = [V_ring[j,2],  V_ring[j,1], -V_ring[j, 0],           0 , 0, 0, 1]\n",
    "        \n",
    "    # Moore-Penrose Inversion\n",
    "    A_pinv = np.linalg.pinv(A)\n",
    "    s = A_pinv[0]\n",
    "    h = A_pinv[1:4]\n",
    "    t = A_pinv[4:7]\n",
    "    \n",
    "\n",
    "    T_delta = np.vstack([\n",
    "         Delta[i,0]*s    - Delta[i,1]*h[2] + Delta[i,2]*h[1],\n",
    "         Delta[i,0]*h[2] + Delta[i,1]*s    - Delta[i,2]*h[0],\n",
    "        -Delta[i,0]*h[1] + Delta[i,1]*h[0] + Delta[i,2]*s   ,\n",
    "    ])\n",
    "        \n",
    "    LS[i, np.hstack([ring, ring+n, ring+2*n])] += T_delta[0]\n",
    "    LS[i+n, np.hstack([ring, ring+n, ring+2*n])] += T_delta[1]\n",
    "    LS[i+2*n, np.hstack([ring, ring+n, ring+2*n])] += T_delta[2]\n",
    "        \n"
   ]
  },
  {
   "cell_type": "code",
   "execution_count": 14,
   "metadata": {},
   "outputs": [],
   "source": [
    "constraint_coef = []\n",
    "constraint_b = []\n",
    "\n",
    "# Boundary constraints\n",
    "boundary_idx = [g2l[i] for i in boundary_ctrl_points]\n",
    "for idx in boundary_idx:\n",
    "    constraint_coef.append(np.arange(3*n) == idx)\n",
    "    constraint_coef.append(np.arange(3*n) == idx + n)\n",
    "    constraint_coef.append(np.arange(3*n) == idx + 2*n)\n",
    "    constraint_b.append(V[idx, 0])\n",
    "    constraint_b.append(V[idx, 1])\n",
    "    constraint_b.append(V[idx, 2])\n",
    "    \n",
    "# Handle constraints\n",
    "for gid, pos in handles.items():\n",
    "    idx = g2l[gid]\n",
    "    constraint_coef.append(np.arange(3*n) == idx)\n",
    "    constraint_coef.append(np.arange(3*n) == idx + n)\n",
    "    constraint_coef.append(np.arange(3*n) == idx + 2*n)\n",
    "    constraint_b.append(pos[0])\n",
    "    constraint_b.append(pos[1])\n",
    "    constraint_b.append(pos[2])\n",
    "    \n",
    "constraint_coef = np.matrix(constraint_coef)\n",
    "constraint_b = np.array(constraint_b)"
   ]
  },
  {
   "cell_type": "code",
   "execution_count": 15,
   "metadata": {},
   "outputs": [],
   "source": [
    "A = np.vstack([LS, constraint_coef])\n",
    "b = np.hstack([np.zeros(3*n), constraint_b])"
   ]
  },
  {
   "cell_type": "code",
   "execution_count": 16,
   "metadata": {},
   "outputs": [],
   "source": [
    "spA = scipy.sparse.coo_matrix(A)"
   ]
  },
  {
   "cell_type": "code",
   "execution_count": 17,
   "metadata": {},
   "outputs": [],
   "source": [
    "V_prime = scipy.sparse.linalg.lsqr(spA, b)"
   ]
  },
  {
   "cell_type": "code",
   "execution_count": 18,
   "metadata": {},
   "outputs": [],
   "source": [
    "new_pnts = []\n",
    "for i in range(n):\n",
    "    new_pnts.append([V_prime[0][i], V_prime[0][i+n], V_prime[0][i+2*n]])\n",
    "    \n",
    "new_mesh = mesh.copy()\n",
    "for idx, pnt in enumerate(new_pnts):\n",
    "    gid = l2g[idx]\n",
    "    new_mesh.vertices[gid] = pnt"
   ]
  },
  {
   "cell_type": "code",
   "execution_count": 19,
   "metadata": {},
   "outputs": [
    {
     "data": {
      "text/plain": [
       "SceneViewer(width=1800, height=794)"
      ]
     },
     "execution_count": 19,
     "metadata": {},
     "output_type": "execute_result"
    }
   ],
   "source": [
    "scene = [mesh, trimesh.points.PointCloud(np.matrix(new_pnts))]\n",
    "trimesh.Scene(scene).show(viewer='gl',smooth=False)"
   ]
  },
  {
   "cell_type": "code",
   "execution_count": 20,
   "metadata": {},
   "outputs": [],
   "source": [
    "with open('render.png', 'wb') as f:\n",
    "    f.write(trimesh.Scene(scene).save_image(resolution=[2000, 2000], visible=True))"
   ]
  },
  {
   "cell_type": "code",
   "execution_count": 21,
   "metadata": {},
   "outputs": [],
   "source": [
    "new_mesh = mesh.copy()\n",
    "for idx, pnt in enumerate(new_pnts):\n",
    "    gid = l2g[idx]\n",
    "    new_mesh.vertices[gid] = pnt"
   ]
  },
  {
   "cell_type": "code",
   "execution_count": 22,
   "metadata": {},
   "outputs": [
    {
     "data": {
      "text/plain": [
       "SceneViewer(width=1800, height=794)"
      ]
     },
     "execution_count": 22,
     "metadata": {},
     "output_type": "execute_result"
    }
   ],
   "source": [
    "scene = [mesh,new_mesh]\n",
    "trimesh.Scene(scene).show(viewer='gl',smooth=False)"
   ]
  },
  {
   "cell_type": "code",
   "execution_count": 34,
   "metadata": {},
   "outputs": [
    {
     "data": {
      "text/plain": [
       "[24092]"
      ]
     },
     "execution_count": 34,
     "metadata": {},
     "output_type": "execute_result"
    }
   ],
   "source": [
    "list(handles.keys())[0]"
   ]
  },
  {
   "cell_type": "code",
   "execution_count": null,
   "metadata": {},
   "outputs": [],
   "source": []
  }
 ],
 "metadata": {
  "kernelspec": {
   "display_name": "Python 3",
   "language": "python",
   "name": "python3"
  },
  "language_info": {
   "codemirror_mode": {
    "name": "ipython",
    "version": 3
   },
   "file_extension": ".py",
   "mimetype": "text/x-python",
   "name": "python",
   "nbconvert_exporter": "python",
   "pygments_lexer": "ipython3",
   "version": "3.7.4"
  }
 },
 "nbformat": 4,
 "nbformat_minor": 4
}
